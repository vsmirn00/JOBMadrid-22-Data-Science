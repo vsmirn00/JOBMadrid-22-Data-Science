{
 "cells": [
  {
   "cell_type": "code",
   "execution_count": 512,
   "id": "525466c1",
   "metadata": {},
   "outputs": [],
   "source": [
    "import pandas as pd\n",
    "import numpy as np\n",
    "import matplotlib.pyplot as plt\n",
    "import seaborn as sns\n",
    "from collections  import Counter\n",
    "\n",
    "from sklearn.preprocessing import LabelEncoder, OrdinalEncoder, OneHotEncoder, LabelBinarizer\n",
    "from sklearn.model_selection import train_test_split\n",
    "from sklearn.metrics import classification_report, confusion_matrix, accuracy_score, recall_score, roc_auc_score, precision_score\n",
    "from imblearn.over_sampling import SMOTE \n",
    "\n",
    "from catboost import CatBoostClassifier\n",
    "from lightgbm import LGBMClassifier\n",
    "from xgboost import XGBClassifier\n",
    "\n",
    "import warnings\n",
    "warnings.filterwarnings(\"ignore\")"
   ]
  },
  {
   "cell_type": "code",
   "execution_count": 513,
   "id": "4f88106b",
   "metadata": {},
   "outputs": [
    {
     "data": {
      "text/html": [
       "<div>\n",
       "<style scoped>\n",
       "    .dataframe tbody tr th:only-of-type {\n",
       "        vertical-align: middle;\n",
       "    }\n",
       "\n",
       "    .dataframe tbody tr th {\n",
       "        vertical-align: top;\n",
       "    }\n",
       "\n",
       "    .dataframe thead th {\n",
       "        text-align: right;\n",
       "    }\n",
       "</style>\n",
       "<table border=\"1\" class=\"dataframe\">\n",
       "  <thead>\n",
       "    <tr style=\"text-align: right;\">\n",
       "      <th></th>\n",
       "      <th>order_id</th>\n",
       "      <th>local_time</th>\n",
       "      <th>country_code</th>\n",
       "      <th>store_address</th>\n",
       "      <th>payment_status</th>\n",
       "      <th>n_of_products</th>\n",
       "      <th>products_total</th>\n",
       "      <th>final_status</th>\n",
       "    </tr>\n",
       "  </thead>\n",
       "  <tbody>\n",
       "    <tr>\n",
       "      <th>0</th>\n",
       "      <td>33446280</td>\n",
       "      <td>14:11:09</td>\n",
       "      <td>AR</td>\n",
       "      <td>55379</td>\n",
       "      <td>PAID</td>\n",
       "      <td>2</td>\n",
       "      <td>11.88</td>\n",
       "      <td>DeliveredStatus</td>\n",
       "    </tr>\n",
       "    <tr>\n",
       "      <th>1</th>\n",
       "      <td>33107339</td>\n",
       "      <td>11:47:41</td>\n",
       "      <td>GT</td>\n",
       "      <td>23487</td>\n",
       "      <td>PAID</td>\n",
       "      <td>2</td>\n",
       "      <td>5.20</td>\n",
       "      <td>DeliveredStatus</td>\n",
       "    </tr>\n",
       "    <tr>\n",
       "      <th>2</th>\n",
       "      <td>32960645</td>\n",
       "      <td>11:53:53</td>\n",
       "      <td>CR</td>\n",
       "      <td>62229</td>\n",
       "      <td>PAID</td>\n",
       "      <td>1</td>\n",
       "      <td>6.03</td>\n",
       "      <td>DeliveredStatus</td>\n",
       "    </tr>\n",
       "    <tr>\n",
       "      <th>3</th>\n",
       "      <td>32089564</td>\n",
       "      <td>20:15:21</td>\n",
       "      <td>ES</td>\n",
       "      <td>29446</td>\n",
       "      <td>PAID</td>\n",
       "      <td>6</td>\n",
       "      <td>6.37</td>\n",
       "      <td>DeliveredStatus</td>\n",
       "    </tr>\n",
       "    <tr>\n",
       "      <th>4</th>\n",
       "      <td>32157739</td>\n",
       "      <td>21:32:16</td>\n",
       "      <td>AR</td>\n",
       "      <td>13917</td>\n",
       "      <td>PAID</td>\n",
       "      <td>1</td>\n",
       "      <td>5.36</td>\n",
       "      <td>CanceledStatus</td>\n",
       "    </tr>\n",
       "  </tbody>\n",
       "</table>\n",
       "</div>"
      ],
      "text/plain": [
       "   order_id local_time country_code  store_address payment_status  \\\n",
       "0  33446280   14:11:09           AR          55379           PAID   \n",
       "1  33107339   11:47:41           GT          23487           PAID   \n",
       "2  32960645   11:53:53           CR          62229           PAID   \n",
       "3  32089564   20:15:21           ES          29446           PAID   \n",
       "4  32157739   21:32:16           AR          13917           PAID   \n",
       "\n",
       "   n_of_products  products_total     final_status  \n",
       "0              2           11.88  DeliveredStatus  \n",
       "1              2            5.20  DeliveredStatus  \n",
       "2              1            6.03  DeliveredStatus  \n",
       "3              6            6.37  DeliveredStatus  \n",
       "4              1            5.36   CanceledStatus  "
      ]
     },
     "execution_count": 513,
     "metadata": {},
     "output_type": "execute_result"
    }
   ],
   "source": [
    "train = pd.read_csv(\"train.csv\")\n",
    "train.head()"
   ]
  },
  {
   "cell_type": "code",
   "execution_count": 514,
   "id": "22824289",
   "metadata": {
    "scrolled": true
   },
   "outputs": [
    {
     "data": {
      "text/html": [
       "<div>\n",
       "<style scoped>\n",
       "    .dataframe tbody tr th:only-of-type {\n",
       "        vertical-align: middle;\n",
       "    }\n",
       "\n",
       "    .dataframe tbody tr th {\n",
       "        vertical-align: top;\n",
       "    }\n",
       "\n",
       "    .dataframe thead th {\n",
       "        text-align: right;\n",
       "    }\n",
       "</style>\n",
       "<table border=\"1\" class=\"dataframe\">\n",
       "  <thead>\n",
       "    <tr style=\"text-align: right;\">\n",
       "      <th></th>\n",
       "      <th>order_id</th>\n",
       "      <th>local_time</th>\n",
       "      <th>country_code</th>\n",
       "      <th>store_address</th>\n",
       "      <th>payment_status</th>\n",
       "      <th>n_of_products</th>\n",
       "      <th>products_total</th>\n",
       "    </tr>\n",
       "  </thead>\n",
       "  <tbody>\n",
       "    <tr>\n",
       "      <th>0</th>\n",
       "      <td>32233784</td>\n",
       "      <td>17:50:09</td>\n",
       "      <td>MA</td>\n",
       "      <td>68169</td>\n",
       "      <td>PAID</td>\n",
       "      <td>1</td>\n",
       "      <td>61.63</td>\n",
       "    </tr>\n",
       "    <tr>\n",
       "      <th>1</th>\n",
       "      <td>32240990</td>\n",
       "      <td>18:38:08</td>\n",
       "      <td>ES</td>\n",
       "      <td>8220</td>\n",
       "      <td>PAID</td>\n",
       "      <td>11</td>\n",
       "      <td>15.99</td>\n",
       "    </tr>\n",
       "    <tr>\n",
       "      <th>2</th>\n",
       "      <td>33331821</td>\n",
       "      <td>22:11:59</td>\n",
       "      <td>IT</td>\n",
       "      <td>11169</td>\n",
       "      <td>PAID</td>\n",
       "      <td>4</td>\n",
       "      <td>5.89</td>\n",
       "    </tr>\n",
       "    <tr>\n",
       "      <th>3</th>\n",
       "      <td>33200505</td>\n",
       "      <td>22:13:55</td>\n",
       "      <td>AR</td>\n",
       "      <td>33371</td>\n",
       "      <td>PAID</td>\n",
       "      <td>3</td>\n",
       "      <td>7.85</td>\n",
       "    </tr>\n",
       "    <tr>\n",
       "      <th>4</th>\n",
       "      <td>32527480</td>\n",
       "      <td>12:01:04</td>\n",
       "      <td>TR</td>\n",
       "      <td>33958</td>\n",
       "      <td>PAID</td>\n",
       "      <td>2</td>\n",
       "      <td>4.75</td>\n",
       "    </tr>\n",
       "  </tbody>\n",
       "</table>\n",
       "</div>"
      ],
      "text/plain": [
       "   order_id local_time country_code  store_address payment_status  \\\n",
       "0  32233784   17:50:09           MA          68169           PAID   \n",
       "1  32240990   18:38:08           ES           8220           PAID   \n",
       "2  33331821   22:11:59           IT          11169           PAID   \n",
       "3  33200505   22:13:55           AR          33371           PAID   \n",
       "4  32527480   12:01:04           TR          33958           PAID   \n",
       "\n",
       "   n_of_products  products_total  \n",
       "0              1           61.63  \n",
       "1             11           15.99  \n",
       "2              4            5.89  \n",
       "3              3            7.85  \n",
       "4              2            4.75  "
      ]
     },
     "execution_count": 514,
     "metadata": {},
     "output_type": "execute_result"
    }
   ],
   "source": [
    "test = pd.read_csv(\"test_X.csv\", delimiter=\";\")\n",
    "test.head()"
   ]
  },
  {
   "cell_type": "markdown",
   "id": "0d9bb649",
   "metadata": {},
   "source": [
    "##### EDA "
   ]
  },
  {
   "cell_type": "code",
   "execution_count": 515,
   "id": "d603fb32",
   "metadata": {
    "scrolled": true
   },
   "outputs": [
    {
     "data": {
      "text/plain": [
       "payment_status                            [DELAYED, NOT_PAID, PAID]\n",
       "final_status                      [CanceledStatus, DeliveredStatus]\n",
       "country_code      [AR, BR, CI, CL, CR, DO, EC, EG, ES, FR, GE, G...\n",
       "n_of_products     [1, 2, 3, 4, 5, 6, 7, 8, 9, 10, 11, 12, 13, 14...\n",
       "dtype: object"
      ]
     },
     "execution_count": 515,
     "metadata": {},
     "output_type": "execute_result"
    }
   ],
   "source": [
    "train[[\"payment_status\", \"final_status\", \"country_code\", \"n_of_products\"]].apply(lambda x: np.sort(x.unique()))"
   ]
  },
  {
   "cell_type": "code",
   "execution_count": 516,
   "id": "299f3b7e",
   "metadata": {
    "scrolled": true
   },
   "outputs": [
    {
     "data": {
      "text/plain": [
       "country_code       23\n",
       "store_address    5627\n",
       "dtype: int64"
      ]
     },
     "execution_count": 516,
     "metadata": {},
     "output_type": "execute_result"
    }
   ],
   "source": [
    "train[[\"country_code\", \"store_address\"]].apply(lambda x: x.nunique())"
   ]
  },
  {
   "cell_type": "code",
   "execution_count": 517,
   "id": "aa2dfb29",
   "metadata": {
    "scrolled": true
   },
   "outputs": [
    {
     "data": {
      "text/plain": [
       "country_code     12\n",
       "store_address    30\n",
       "dtype: int64"
      ]
     },
     "execution_count": 517,
     "metadata": {},
     "output_type": "execute_result"
    }
   ],
   "source": [
    "test[[\"country_code\", \"store_address\"]].apply(lambda x: x.nunique())"
   ]
  },
  {
   "cell_type": "code",
   "execution_count": 518,
   "id": "e8e9db65",
   "metadata": {},
   "outputs": [
    {
     "data": {
      "text/html": [
       "<div>\n",
       "<style scoped>\n",
       "    .dataframe tbody tr th:only-of-type {\n",
       "        vertical-align: middle;\n",
       "    }\n",
       "\n",
       "    .dataframe tbody tr th {\n",
       "        vertical-align: top;\n",
       "    }\n",
       "\n",
       "    .dataframe thead th {\n",
       "        text-align: right;\n",
       "    }\n",
       "</style>\n",
       "<table border=\"1\" class=\"dataframe\">\n",
       "  <thead>\n",
       "    <tr style=\"text-align: right;\">\n",
       "      <th></th>\n",
       "      <th>count</th>\n",
       "      <th>mean</th>\n",
       "      <th>std</th>\n",
       "      <th>min</th>\n",
       "      <th>25%</th>\n",
       "      <th>50%</th>\n",
       "      <th>75%</th>\n",
       "      <th>max</th>\n",
       "    </tr>\n",
       "  </thead>\n",
       "  <tbody>\n",
       "    <tr>\n",
       "      <th>order_id</th>\n",
       "      <td>54330.0</td>\n",
       "      <td>3.278267e+07</td>\n",
       "      <td>445940.244923</td>\n",
       "      <td>31503775.0</td>\n",
       "      <td>32400066.75</td>\n",
       "      <td>32781587.50</td>\n",
       "      <td>33183798.00</td>\n",
       "      <td>33560846.00</td>\n",
       "    </tr>\n",
       "    <tr>\n",
       "      <th>store_address</th>\n",
       "      <td>54330.0</td>\n",
       "      <td>4.160938e+04</td>\n",
       "      <td>21903.267141</td>\n",
       "      <td>190.0</td>\n",
       "      <td>21369.00</td>\n",
       "      <td>45993.50</td>\n",
       "      <td>62004.00</td>\n",
       "      <td>75236.00</td>\n",
       "    </tr>\n",
       "    <tr>\n",
       "      <th>n_of_products</th>\n",
       "      <td>54330.0</td>\n",
       "      <td>2.815792e+00</td>\n",
       "      <td>2.430936</td>\n",
       "      <td>1.0</td>\n",
       "      <td>1.00</td>\n",
       "      <td>2.00</td>\n",
       "      <td>3.00</td>\n",
       "      <td>39.00</td>\n",
       "    </tr>\n",
       "    <tr>\n",
       "      <th>products_total</th>\n",
       "      <td>54330.0</td>\n",
       "      <td>9.838136e+00</td>\n",
       "      <td>9.260352</td>\n",
       "      <td>0.0</td>\n",
       "      <td>4.13</td>\n",
       "      <td>7.13</td>\n",
       "      <td>12.77</td>\n",
       "      <td>221.48</td>\n",
       "    </tr>\n",
       "  </tbody>\n",
       "</table>\n",
       "</div>"
      ],
      "text/plain": [
       "                  count          mean            std         min          25%  \\\n",
       "order_id        54330.0  3.278267e+07  445940.244923  31503775.0  32400066.75   \n",
       "store_address   54330.0  4.160938e+04   21903.267141       190.0     21369.00   \n",
       "n_of_products   54330.0  2.815792e+00       2.430936         1.0         1.00   \n",
       "products_total  54330.0  9.838136e+00       9.260352         0.0         4.13   \n",
       "\n",
       "                        50%          75%          max  \n",
       "order_id        32781587.50  33183798.00  33560846.00  \n",
       "store_address      45993.50     62004.00     75236.00  \n",
       "n_of_products          2.00         3.00        39.00  \n",
       "products_total         7.13        12.77       221.48  "
      ]
     },
     "execution_count": 518,
     "metadata": {},
     "output_type": "execute_result"
    }
   ],
   "source": [
    "train.describe().T"
   ]
  },
  {
   "cell_type": "code",
   "execution_count": 519,
   "id": "8503b44c",
   "metadata": {},
   "outputs": [
    {
     "data": {
      "text/html": [
       "<div>\n",
       "<style scoped>\n",
       "    .dataframe tbody tr th:only-of-type {\n",
       "        vertical-align: middle;\n",
       "    }\n",
       "\n",
       "    .dataframe tbody tr th {\n",
       "        vertical-align: top;\n",
       "    }\n",
       "\n",
       "    .dataframe thead th {\n",
       "        text-align: right;\n",
       "    }\n",
       "</style>\n",
       "<table border=\"1\" class=\"dataframe\">\n",
       "  <thead>\n",
       "    <tr style=\"text-align: right;\">\n",
       "      <th></th>\n",
       "      <th>count</th>\n",
       "      <th>mean</th>\n",
       "      <th>std</th>\n",
       "      <th>min</th>\n",
       "      <th>25%</th>\n",
       "      <th>50%</th>\n",
       "      <th>75%</th>\n",
       "      <th>max</th>\n",
       "    </tr>\n",
       "  </thead>\n",
       "  <tbody>\n",
       "    <tr>\n",
       "      <th>order_id</th>\n",
       "      <td>30.0</td>\n",
       "      <td>3.282164e+07</td>\n",
       "      <td>494086.190534</td>\n",
       "      <td>32054504.00</td>\n",
       "      <td>3.234332e+07</td>\n",
       "      <td>32905076.00</td>\n",
       "      <td>3.327700e+07</td>\n",
       "      <td>33559535.00</td>\n",
       "    </tr>\n",
       "    <tr>\n",
       "      <th>store_address</th>\n",
       "      <td>30.0</td>\n",
       "      <td>3.809023e+04</td>\n",
       "      <td>20693.025508</td>\n",
       "      <td>3705.00</td>\n",
       "      <td>1.933700e+04</td>\n",
       "      <td>37682.00</td>\n",
       "      <td>5.135925e+04</td>\n",
       "      <td>70877.00</td>\n",
       "    </tr>\n",
       "    <tr>\n",
       "      <th>n_of_products</th>\n",
       "      <td>30.0</td>\n",
       "      <td>2.800000e+00</td>\n",
       "      <td>2.605035</td>\n",
       "      <td>1.00</td>\n",
       "      <td>1.000000e+00</td>\n",
       "      <td>2.00</td>\n",
       "      <td>3.750000e+00</td>\n",
       "      <td>11.00</td>\n",
       "    </tr>\n",
       "    <tr>\n",
       "      <th>products_total</th>\n",
       "      <td>30.0</td>\n",
       "      <td>1.257000e+01</td>\n",
       "      <td>14.439332</td>\n",
       "      <td>0.77</td>\n",
       "      <td>4.225000e+00</td>\n",
       "      <td>6.91</td>\n",
       "      <td>1.561750e+01</td>\n",
       "      <td>61.63</td>\n",
       "    </tr>\n",
       "  </tbody>\n",
       "</table>\n",
       "</div>"
      ],
      "text/plain": [
       "                count          mean            std          min           25%  \\\n",
       "order_id         30.0  3.282164e+07  494086.190534  32054504.00  3.234332e+07   \n",
       "store_address    30.0  3.809023e+04   20693.025508      3705.00  1.933700e+04   \n",
       "n_of_products    30.0  2.800000e+00       2.605035         1.00  1.000000e+00   \n",
       "products_total   30.0  1.257000e+01      14.439332         0.77  4.225000e+00   \n",
       "\n",
       "                        50%           75%          max  \n",
       "order_id        32905076.00  3.327700e+07  33559535.00  \n",
       "store_address      37682.00  5.135925e+04     70877.00  \n",
       "n_of_products          2.00  3.750000e+00        11.00  \n",
       "products_total         6.91  1.561750e+01        61.63  "
      ]
     },
     "execution_count": 519,
     "metadata": {},
     "output_type": "execute_result"
    }
   ],
   "source": [
    "test.describe().T"
   ]
  },
  {
   "cell_type": "code",
   "execution_count": 520,
   "id": "c3e6f233",
   "metadata": {},
   "outputs": [
    {
     "name": "stdout",
     "output_type": "stream",
     "text": [
      "<class 'pandas.core.frame.DataFrame'>\n",
      "RangeIndex: 54330 entries, 0 to 54329\n",
      "Data columns (total 8 columns):\n",
      " #   Column          Non-Null Count  Dtype  \n",
      "---  ------          --------------  -----  \n",
      " 0   order_id        54330 non-null  int64  \n",
      " 1   local_time      54330 non-null  object \n",
      " 2   country_code    54330 non-null  object \n",
      " 3   store_address   54330 non-null  int64  \n",
      " 4   payment_status  54330 non-null  object \n",
      " 5   n_of_products   54330 non-null  int64  \n",
      " 6   products_total  54330 non-null  float64\n",
      " 7   final_status    54330 non-null  object \n",
      "dtypes: float64(1), int64(3), object(4)\n",
      "memory usage: 3.3+ MB\n"
     ]
    }
   ],
   "source": [
    "train.info()"
   ]
  },
  {
   "cell_type": "code",
   "execution_count": 521,
   "id": "21f19e5c",
   "metadata": {},
   "outputs": [
    {
     "name": "stdout",
     "output_type": "stream",
     "text": [
      "<class 'pandas.core.frame.DataFrame'>\n",
      "RangeIndex: 30 entries, 0 to 29\n",
      "Data columns (total 7 columns):\n",
      " #   Column          Non-Null Count  Dtype  \n",
      "---  ------          --------------  -----  \n",
      " 0   order_id        30 non-null     int64  \n",
      " 1   local_time      30 non-null     object \n",
      " 2   country_code    30 non-null     object \n",
      " 3   store_address   30 non-null     int64  \n",
      " 4   payment_status  30 non-null     object \n",
      " 5   n_of_products   30 non-null     int64  \n",
      " 6   products_total  30 non-null     float64\n",
      "dtypes: float64(1), int64(3), object(3)\n",
      "memory usage: 1.8+ KB\n"
     ]
    }
   ],
   "source": [
    "test.info()"
   ]
  },
  {
   "cell_type": "markdown",
   "id": "16238227",
   "metadata": {},
   "source": [
    "##### Feature engineering"
   ]
  },
  {
   "cell_type": "code",
   "execution_count": 522,
   "id": "c2116da2",
   "metadata": {},
   "outputs": [],
   "source": [
    "train_copy = train.copy()"
   ]
  },
  {
   "cell_type": "code",
   "execution_count": 523,
   "id": "4e678e77",
   "metadata": {
    "scrolled": true
   },
   "outputs": [
    {
     "data": {
      "text/html": [
       "<div>\n",
       "<style scoped>\n",
       "    .dataframe tbody tr th:only-of-type {\n",
       "        vertical-align: middle;\n",
       "    }\n",
       "\n",
       "    .dataframe tbody tr th {\n",
       "        vertical-align: top;\n",
       "    }\n",
       "\n",
       "    .dataframe thead th {\n",
       "        text-align: right;\n",
       "    }\n",
       "</style>\n",
       "<table border=\"1\" class=\"dataframe\">\n",
       "  <thead>\n",
       "    <tr style=\"text-align: right;\">\n",
       "      <th></th>\n",
       "      <th>order_id</th>\n",
       "      <th>local_time</th>\n",
       "      <th>country_code</th>\n",
       "      <th>store_address</th>\n",
       "      <th>payment_status</th>\n",
       "      <th>n_of_products</th>\n",
       "      <th>products_total</th>\n",
       "      <th>final_status</th>\n",
       "    </tr>\n",
       "  </thead>\n",
       "  <tbody>\n",
       "    <tr>\n",
       "      <th>0</th>\n",
       "      <td>33446280</td>\n",
       "      <td>14:11:09</td>\n",
       "      <td>AR</td>\n",
       "      <td>55379</td>\n",
       "      <td>PAID</td>\n",
       "      <td>2</td>\n",
       "      <td>11.88</td>\n",
       "      <td>DeliveredStatus</td>\n",
       "    </tr>\n",
       "    <tr>\n",
       "      <th>1</th>\n",
       "      <td>33107339</td>\n",
       "      <td>11:47:41</td>\n",
       "      <td>GT</td>\n",
       "      <td>23487</td>\n",
       "      <td>PAID</td>\n",
       "      <td>2</td>\n",
       "      <td>5.20</td>\n",
       "      <td>DeliveredStatus</td>\n",
       "    </tr>\n",
       "    <tr>\n",
       "      <th>2</th>\n",
       "      <td>32960645</td>\n",
       "      <td>11:53:53</td>\n",
       "      <td>CR</td>\n",
       "      <td>62229</td>\n",
       "      <td>PAID</td>\n",
       "      <td>1</td>\n",
       "      <td>6.03</td>\n",
       "      <td>DeliveredStatus</td>\n",
       "    </tr>\n",
       "    <tr>\n",
       "      <th>3</th>\n",
       "      <td>32089564</td>\n",
       "      <td>20:15:21</td>\n",
       "      <td>ES</td>\n",
       "      <td>29446</td>\n",
       "      <td>PAID</td>\n",
       "      <td>6</td>\n",
       "      <td>6.37</td>\n",
       "      <td>DeliveredStatus</td>\n",
       "    </tr>\n",
       "    <tr>\n",
       "      <th>4</th>\n",
       "      <td>32157739</td>\n",
       "      <td>21:32:16</td>\n",
       "      <td>AR</td>\n",
       "      <td>13917</td>\n",
       "      <td>PAID</td>\n",
       "      <td>1</td>\n",
       "      <td>5.36</td>\n",
       "      <td>CanceledStatus</td>\n",
       "    </tr>\n",
       "  </tbody>\n",
       "</table>\n",
       "</div>"
      ],
      "text/plain": [
       "   order_id local_time country_code  store_address payment_status  \\\n",
       "0  33446280   14:11:09           AR          55379           PAID   \n",
       "1  33107339   11:47:41           GT          23487           PAID   \n",
       "2  32960645   11:53:53           CR          62229           PAID   \n",
       "3  32089564   20:15:21           ES          29446           PAID   \n",
       "4  32157739   21:32:16           AR          13917           PAID   \n",
       "\n",
       "   n_of_products  products_total     final_status  \n",
       "0              2           11.88  DeliveredStatus  \n",
       "1              2            5.20  DeliveredStatus  \n",
       "2              1            6.03  DeliveredStatus  \n",
       "3              6            6.37  DeliveredStatus  \n",
       "4              1            5.36   CanceledStatus  "
      ]
     },
     "execution_count": 523,
     "metadata": {},
     "output_type": "execute_result"
    }
   ],
   "source": [
    "train_copy.head()"
   ]
  },
  {
   "cell_type": "code",
   "execution_count": 524,
   "id": "8e78cbe7",
   "metadata": {},
   "outputs": [],
   "source": [
    "le = LabelEncoder()\n",
    "oe = OrdinalEncoder()\n",
    "ohe = OneHotEncoder()\n",
    "lb = LabelBinarizer()"
   ]
  },
  {
   "cell_type": "code",
   "execution_count": 525,
   "id": "411b6683",
   "metadata": {},
   "outputs": [],
   "source": [
    "# train_copy[\"final_status\"] = le.fit_transform(train_copy[\"final_status\"])\n",
    "train_copy[\"final_status\"] = pd.DataFrame(lb.fit_transform(train_copy[\"final_status\"]))"
   ]
  },
  {
   "cell_type": "code",
   "execution_count": 526,
   "id": "b86e37b1",
   "metadata": {},
   "outputs": [
    {
     "data": {
      "text/html": [
       "<div>\n",
       "<style scoped>\n",
       "    .dataframe tbody tr th:only-of-type {\n",
       "        vertical-align: middle;\n",
       "    }\n",
       "\n",
       "    .dataframe tbody tr th {\n",
       "        vertical-align: top;\n",
       "    }\n",
       "\n",
       "    .dataframe thead th {\n",
       "        text-align: right;\n",
       "    }\n",
       "</style>\n",
       "<table border=\"1\" class=\"dataframe\">\n",
       "  <thead>\n",
       "    <tr style=\"text-align: right;\">\n",
       "      <th></th>\n",
       "      <th>order_id</th>\n",
       "      <th>local_time</th>\n",
       "      <th>store_address</th>\n",
       "      <th>n_of_products</th>\n",
       "      <th>products_total</th>\n",
       "      <th>final_status</th>\n",
       "      <th>0</th>\n",
       "      <th>1</th>\n",
       "      <th>2</th>\n",
       "      <th>3</th>\n",
       "      <th>...</th>\n",
       "      <th>16</th>\n",
       "      <th>17</th>\n",
       "      <th>18</th>\n",
       "      <th>19</th>\n",
       "      <th>20</th>\n",
       "      <th>21</th>\n",
       "      <th>22</th>\n",
       "      <th>23</th>\n",
       "      <th>24</th>\n",
       "      <th>25</th>\n",
       "    </tr>\n",
       "  </thead>\n",
       "  <tbody>\n",
       "    <tr>\n",
       "      <th>0</th>\n",
       "      <td>33446280</td>\n",
       "      <td>14:11:09</td>\n",
       "      <td>55379</td>\n",
       "      <td>2</td>\n",
       "      <td>11.88</td>\n",
       "      <td>1</td>\n",
       "      <td>1.0</td>\n",
       "      <td>0.0</td>\n",
       "      <td>0.0</td>\n",
       "      <td>0.0</td>\n",
       "      <td>...</td>\n",
       "      <td>0.0</td>\n",
       "      <td>0.0</td>\n",
       "      <td>0.0</td>\n",
       "      <td>0.0</td>\n",
       "      <td>0.0</td>\n",
       "      <td>0.0</td>\n",
       "      <td>0.0</td>\n",
       "      <td>0.0</td>\n",
       "      <td>0.0</td>\n",
       "      <td>1.0</td>\n",
       "    </tr>\n",
       "    <tr>\n",
       "      <th>1</th>\n",
       "      <td>33107339</td>\n",
       "      <td>11:47:41</td>\n",
       "      <td>23487</td>\n",
       "      <td>2</td>\n",
       "      <td>5.20</td>\n",
       "      <td>1</td>\n",
       "      <td>0.0</td>\n",
       "      <td>0.0</td>\n",
       "      <td>0.0</td>\n",
       "      <td>0.0</td>\n",
       "      <td>...</td>\n",
       "      <td>0.0</td>\n",
       "      <td>0.0</td>\n",
       "      <td>0.0</td>\n",
       "      <td>0.0</td>\n",
       "      <td>0.0</td>\n",
       "      <td>0.0</td>\n",
       "      <td>0.0</td>\n",
       "      <td>0.0</td>\n",
       "      <td>0.0</td>\n",
       "      <td>1.0</td>\n",
       "    </tr>\n",
       "    <tr>\n",
       "      <th>2</th>\n",
       "      <td>32960645</td>\n",
       "      <td>11:53:53</td>\n",
       "      <td>62229</td>\n",
       "      <td>1</td>\n",
       "      <td>6.03</td>\n",
       "      <td>1</td>\n",
       "      <td>0.0</td>\n",
       "      <td>0.0</td>\n",
       "      <td>0.0</td>\n",
       "      <td>0.0</td>\n",
       "      <td>...</td>\n",
       "      <td>0.0</td>\n",
       "      <td>0.0</td>\n",
       "      <td>0.0</td>\n",
       "      <td>0.0</td>\n",
       "      <td>0.0</td>\n",
       "      <td>0.0</td>\n",
       "      <td>0.0</td>\n",
       "      <td>0.0</td>\n",
       "      <td>0.0</td>\n",
       "      <td>1.0</td>\n",
       "    </tr>\n",
       "    <tr>\n",
       "      <th>3</th>\n",
       "      <td>32089564</td>\n",
       "      <td>20:15:21</td>\n",
       "      <td>29446</td>\n",
       "      <td>6</td>\n",
       "      <td>6.37</td>\n",
       "      <td>1</td>\n",
       "      <td>0.0</td>\n",
       "      <td>0.0</td>\n",
       "      <td>0.0</td>\n",
       "      <td>0.0</td>\n",
       "      <td>...</td>\n",
       "      <td>0.0</td>\n",
       "      <td>0.0</td>\n",
       "      <td>0.0</td>\n",
       "      <td>0.0</td>\n",
       "      <td>0.0</td>\n",
       "      <td>0.0</td>\n",
       "      <td>0.0</td>\n",
       "      <td>0.0</td>\n",
       "      <td>0.0</td>\n",
       "      <td>1.0</td>\n",
       "    </tr>\n",
       "    <tr>\n",
       "      <th>4</th>\n",
       "      <td>32157739</td>\n",
       "      <td>21:32:16</td>\n",
       "      <td>13917</td>\n",
       "      <td>1</td>\n",
       "      <td>5.36</td>\n",
       "      <td>0</td>\n",
       "      <td>1.0</td>\n",
       "      <td>0.0</td>\n",
       "      <td>0.0</td>\n",
       "      <td>0.0</td>\n",
       "      <td>...</td>\n",
       "      <td>0.0</td>\n",
       "      <td>0.0</td>\n",
       "      <td>0.0</td>\n",
       "      <td>0.0</td>\n",
       "      <td>0.0</td>\n",
       "      <td>0.0</td>\n",
       "      <td>0.0</td>\n",
       "      <td>0.0</td>\n",
       "      <td>0.0</td>\n",
       "      <td>1.0</td>\n",
       "    </tr>\n",
       "  </tbody>\n",
       "</table>\n",
       "<p>5 rows × 32 columns</p>\n",
       "</div>"
      ],
      "text/plain": [
       "   order_id local_time  store_address  n_of_products  products_total  \\\n",
       "0  33446280   14:11:09          55379              2           11.88   \n",
       "1  33107339   11:47:41          23487              2            5.20   \n",
       "2  32960645   11:53:53          62229              1            6.03   \n",
       "3  32089564   20:15:21          29446              6            6.37   \n",
       "4  32157739   21:32:16          13917              1            5.36   \n",
       "\n",
       "   final_status    0    1    2    3  ...   16   17   18   19   20   21   22  \\\n",
       "0             1  1.0  0.0  0.0  0.0  ...  0.0  0.0  0.0  0.0  0.0  0.0  0.0   \n",
       "1             1  0.0  0.0  0.0  0.0  ...  0.0  0.0  0.0  0.0  0.0  0.0  0.0   \n",
       "2             1  0.0  0.0  0.0  0.0  ...  0.0  0.0  0.0  0.0  0.0  0.0  0.0   \n",
       "3             1  0.0  0.0  0.0  0.0  ...  0.0  0.0  0.0  0.0  0.0  0.0  0.0   \n",
       "4             0  1.0  0.0  0.0  0.0  ...  0.0  0.0  0.0  0.0  0.0  0.0  0.0   \n",
       "\n",
       "    23   24   25  \n",
       "0  0.0  0.0  1.0  \n",
       "1  0.0  0.0  1.0  \n",
       "2  0.0  0.0  1.0  \n",
       "3  0.0  0.0  1.0  \n",
       "4  0.0  0.0  1.0  \n",
       "\n",
       "[5 rows x 32 columns]"
      ]
     },
     "execution_count": 526,
     "metadata": {},
     "output_type": "execute_result"
    }
   ],
   "source": [
    "encoder_df = pd.DataFrame(ohe.fit_transform(train_copy[[\"country_code\", \"payment_status\"]]).toarray())\n",
    "train_encoded = train_copy.join(encoder_df)\n",
    "train_encoded.drop([\"country_code\", \"payment_status\"], axis=1, inplace=True)\n",
    "train_encoded.head()"
   ]
  },
  {
   "cell_type": "markdown",
   "id": "ba8251aa",
   "metadata": {},
   "source": [
    "### Exercises"
   ]
  },
  {
   "cell_type": "markdown",
   "id": "0fea2d17",
   "metadata": {},
   "source": [
    "### 1. ¿Cuáles son los 3 paises en los que más pedidos se realizan?"
   ]
  },
  {
   "cell_type": "code",
   "execution_count": 527,
   "id": "48f7d092",
   "metadata": {},
   "outputs": [
    {
     "name": "stdout",
     "output_type": "stream",
     "text": [
      "Los tres paises que más pedidos realizan son Argentina, España y Turquia:\n",
      "\n",
      "     country_code\n",
      "AR         11854\n",
      "ES         11554\n",
      "TR          5696\n"
     ]
    }
   ],
   "source": [
    "top_countries = pd.DataFrame(train[\"country_code\"].value_counts())\n",
    "print(\"Los tres paises que más pedidos realizan son Argentina, España y Turquia:\\n\\n\", top_countries[:3])"
   ]
  },
  {
   "cell_type": "markdown",
   "id": "4d35ff66",
   "metadata": {},
   "source": [
    "### 2. ¿Cuáles son las horas en las que se realizan más pedidos en España?"
   ]
  },
  {
   "cell_type": "code",
   "execution_count": 528,
   "id": "137a408d",
   "metadata": {},
   "outputs": [
    {
     "data": {
      "text/html": [
       "<div>\n",
       "<style scoped>\n",
       "    .dataframe tbody tr th:only-of-type {\n",
       "        vertical-align: middle;\n",
       "    }\n",
       "\n",
       "    .dataframe tbody tr th {\n",
       "        vertical-align: top;\n",
       "    }\n",
       "\n",
       "    .dataframe thead th {\n",
       "        text-align: right;\n",
       "    }\n",
       "</style>\n",
       "<table border=\"1\" class=\"dataframe\">\n",
       "  <thead>\n",
       "    <tr style=\"text-align: right;\">\n",
       "      <th></th>\n",
       "      <th>order_id</th>\n",
       "      <th>local_time</th>\n",
       "      <th>country_code</th>\n",
       "      <th>store_address</th>\n",
       "      <th>payment_status</th>\n",
       "      <th>n_of_products</th>\n",
       "      <th>products_total</th>\n",
       "      <th>final_status</th>\n",
       "    </tr>\n",
       "  </thead>\n",
       "  <tbody>\n",
       "    <tr>\n",
       "      <th>3</th>\n",
       "      <td>32089564</td>\n",
       "      <td>20:15:21</td>\n",
       "      <td>ES</td>\n",
       "      <td>29446</td>\n",
       "      <td>PAID</td>\n",
       "      <td>6</td>\n",
       "      <td>6.37</td>\n",
       "      <td>DeliveredStatus</td>\n",
       "    </tr>\n",
       "    <tr>\n",
       "      <th>8</th>\n",
       "      <td>32236610</td>\n",
       "      <td>17:09:16</td>\n",
       "      <td>ES</td>\n",
       "      <td>30120</td>\n",
       "      <td>PAID</td>\n",
       "      <td>3</td>\n",
       "      <td>4.35</td>\n",
       "      <td>DeliveredStatus</td>\n",
       "    </tr>\n",
       "    <tr>\n",
       "      <th>13</th>\n",
       "      <td>32235607</td>\n",
       "      <td>18:02:18</td>\n",
       "      <td>ES</td>\n",
       "      <td>18682</td>\n",
       "      <td>PAID</td>\n",
       "      <td>9</td>\n",
       "      <td>16.12</td>\n",
       "      <td>DeliveredStatus</td>\n",
       "    </tr>\n",
       "    <tr>\n",
       "      <th>19</th>\n",
       "      <td>32670668</td>\n",
       "      <td>14:37:58</td>\n",
       "      <td>ES</td>\n",
       "      <td>8994</td>\n",
       "      <td>PAID</td>\n",
       "      <td>12</td>\n",
       "      <td>17.93</td>\n",
       "      <td>DeliveredStatus</td>\n",
       "    </tr>\n",
       "    <tr>\n",
       "      <th>24</th>\n",
       "      <td>32126718</td>\n",
       "      <td>21:12:30</td>\n",
       "      <td>ES</td>\n",
       "      <td>14872</td>\n",
       "      <td>PAID</td>\n",
       "      <td>3</td>\n",
       "      <td>22.00</td>\n",
       "      <td>DeliveredStatus</td>\n",
       "    </tr>\n",
       "  </tbody>\n",
       "</table>\n",
       "</div>"
      ],
      "text/plain": [
       "    order_id local_time country_code  store_address payment_status  \\\n",
       "3   32089564   20:15:21           ES          29446           PAID   \n",
       "8   32236610   17:09:16           ES          30120           PAID   \n",
       "13  32235607   18:02:18           ES          18682           PAID   \n",
       "19  32670668   14:37:58           ES           8994           PAID   \n",
       "24  32126718   21:12:30           ES          14872           PAID   \n",
       "\n",
       "    n_of_products  products_total     final_status  \n",
       "3               6            6.37  DeliveredStatus  \n",
       "8               3            4.35  DeliveredStatus  \n",
       "13              9           16.12  DeliveredStatus  \n",
       "19             12           17.93  DeliveredStatus  \n",
       "24              3           22.00  DeliveredStatus  "
      ]
     },
     "execution_count": 528,
     "metadata": {},
     "output_type": "execute_result"
    }
   ],
   "source": [
    "train_sp = train.loc[(train[\"country_code\"] == \"ES\")] \n",
    "train_sp.head()"
   ]
  },
  {
   "cell_type": "code",
   "execution_count": 529,
   "id": "53a5d9a0",
   "metadata": {},
   "outputs": [
    {
     "name": "stdout",
     "output_type": "stream",
     "text": [
      "En España las horas cuando se realizan más pedidos son durante las 20, 21 y 19 horas.\n"
     ]
    }
   ],
   "source": [
    "train_sp[\"local_time\"] = train_sp[\"local_time\"].astype(\"datetime64\")\n",
    "horas = train_sp.local_time.dt.hour.value_counts()\n",
    "horas = pd.DataFrame({\"horas\": horas})\n",
    "top_horas = horas.index.values[0:3]\n",
    "print(\"En España las horas cuando se realizan más pedidos son durante las {}, {} y {} horas.\".format(*top_horas))"
   ]
  },
  {
   "cell_type": "markdown",
   "id": "53313bd1",
   "metadata": {},
   "source": [
    "### 3. ¿Cuál es el precio medio por pedido en la tienda con ID 12513?"
   ]
  },
  {
   "cell_type": "code",
   "execution_count": 530,
   "id": "f3a63bab",
   "metadata": {
    "scrolled": true
   },
   "outputs": [
    {
     "name": "stdout",
     "output_type": "stream",
     "text": [
      "El precio medio por pedido para la tienda con id 12513 es de 17.39\n"
     ]
    }
   ],
   "source": [
    "train_id = train.loc[(train[\"store_address\"] == 12513)]\n",
    "mu = round(train_id[\"products_total\"].mean(), 2)\n",
    "print(f\"El precio medio por pedido para la tienda con id 12513 es de {mu}\")"
   ]
  },
  {
   "cell_type": "markdown",
   "id": "ad33db21",
   "metadata": {},
   "source": [
    "### 4. Teniendo en cuenta los picos de demanda en España, si los repartidores trabajan en turnos de 8horas. \n",
    "##### · Turno 1 (00:00-08:00)\n",
    "##### · Turno 2 (08:00-16:00)\n",
    "##### · Turno 3 (16:00-00:00)\n",
    "### Qué porcentaje de repartidores pondrías por cada turno para que sean capaces de hacer frente a los picos de demanda. (ej: Turno 1 el 30%, Turno 2 el 10% y Turno 3 el 60%)."
   ]
  },
  {
   "cell_type": "code",
   "execution_count": 531,
   "id": "3afa8a8d",
   "metadata": {
    "scrolled": true
   },
   "outputs": [
    {
     "data": {
      "text/plain": [
       "horas    11554\n",
       "dtype: int64"
      ]
     },
     "execution_count": 531,
     "metadata": {},
     "output_type": "execute_result"
    }
   ],
   "source": [
    "total_horas = horas.sum()\n",
    "total_horas"
   ]
  },
  {
   "cell_type": "code",
   "execution_count": 532,
   "id": "8b7027f5",
   "metadata": {},
   "outputs": [],
   "source": [
    "turno_1 = horas[horas[\"horas\"].index < 8]\n",
    "turno_1_perc = (turno_1.sum()/total_horas)*100\n",
    "turno_2 = horas[(horas[\"horas\"].index >= 8) & (horas[\"horas\"].index < 16)]\n",
    "turno_2_perc = (turno_2.sum()/total_horas)*100\n",
    "turno_3 = horas[horas[\"horas\"].index >= 16]\n",
    "turno_3_perc = (turno_3.sum()/total_horas)*100"
   ]
  },
  {
   "cell_type": "code",
   "execution_count": 533,
   "id": "d600452e",
   "metadata": {},
   "outputs": [
    {
     "name": "stdout",
     "output_type": "stream",
     "text": [
      "El porcentaje de repartidores necesario para el primer turno es del: 0.12 %\n",
      "El porcentaje de repartidores necesario para el segundo turno es del: 38.84 %\n",
      "El porcentaje de repartidores necesario para el tercer turno es del: 61.04 %\n"
     ]
    }
   ],
   "source": [
    "print(\"El porcentaje de repartidores necesario para el primer turno es del:\", turno_1_perc.horas.round(decimals = 2),\"%\")\n",
    "print(\"El porcentaje de repartidores necesario para el segundo turno es del:\", turno_2_perc.horas.round(decimals = 2),\"%\")\n",
    "print(\"El porcentaje de repartidores necesario para el tercer turno es del:\", turno_3_perc.horas.round(decimals = 2),\"%\")"
   ]
  },
  {
   "cell_type": "markdown",
   "id": "487c1217",
   "metadata": {},
   "source": [
    "### 5. Realiza un modelo predictivo de machine learning a partir del dataset 'train.csv' en el cual a partir de las variables predictoras que se entregan en el dataset 'test_X' se pueda predecir si el pedido se cancelará o no (columna 'final_status')."
   ]
  },
  {
   "cell_type": "markdown",
   "id": "c117782f",
   "metadata": {},
   "source": [
    "train = train.drop([\"country_code\", \"store_address\"],axis=1)\n",
    "test = test.drop([\"country_code\", \"store_address\"],axis=1)"
   ]
  },
  {
   "cell_type": "code",
   "execution_count": 534,
   "id": "9398bb6a",
   "metadata": {
    "scrolled": false
   },
   "outputs": [
    {
     "data": {
      "text/html": [
       "<div>\n",
       "<style scoped>\n",
       "    .dataframe tbody tr th:only-of-type {\n",
       "        vertical-align: middle;\n",
       "    }\n",
       "\n",
       "    .dataframe tbody tr th {\n",
       "        vertical-align: top;\n",
       "    }\n",
       "\n",
       "    .dataframe thead th {\n",
       "        text-align: right;\n",
       "    }\n",
       "</style>\n",
       "<table border=\"1\" class=\"dataframe\">\n",
       "  <thead>\n",
       "    <tr style=\"text-align: right;\">\n",
       "      <th></th>\n",
       "      <th>order_id</th>\n",
       "      <th>local_time</th>\n",
       "      <th>store_address</th>\n",
       "      <th>n_of_products</th>\n",
       "      <th>products_total</th>\n",
       "      <th>final_status</th>\n",
       "      <th>0</th>\n",
       "      <th>1</th>\n",
       "      <th>2</th>\n",
       "      <th>3</th>\n",
       "      <th>...</th>\n",
       "      <th>16</th>\n",
       "      <th>17</th>\n",
       "      <th>18</th>\n",
       "      <th>19</th>\n",
       "      <th>20</th>\n",
       "      <th>21</th>\n",
       "      <th>22</th>\n",
       "      <th>23</th>\n",
       "      <th>24</th>\n",
       "      <th>25</th>\n",
       "    </tr>\n",
       "  </thead>\n",
       "  <tbody>\n",
       "    <tr>\n",
       "      <th>0</th>\n",
       "      <td>33446280</td>\n",
       "      <td>14:11:09</td>\n",
       "      <td>55379</td>\n",
       "      <td>2</td>\n",
       "      <td>11.88</td>\n",
       "      <td>1</td>\n",
       "      <td>1.0</td>\n",
       "      <td>0.0</td>\n",
       "      <td>0.0</td>\n",
       "      <td>0.0</td>\n",
       "      <td>...</td>\n",
       "      <td>0.0</td>\n",
       "      <td>0.0</td>\n",
       "      <td>0.0</td>\n",
       "      <td>0.0</td>\n",
       "      <td>0.0</td>\n",
       "      <td>0.0</td>\n",
       "      <td>0.0</td>\n",
       "      <td>0.0</td>\n",
       "      <td>0.0</td>\n",
       "      <td>1.0</td>\n",
       "    </tr>\n",
       "    <tr>\n",
       "      <th>1</th>\n",
       "      <td>33107339</td>\n",
       "      <td>11:47:41</td>\n",
       "      <td>23487</td>\n",
       "      <td>2</td>\n",
       "      <td>5.20</td>\n",
       "      <td>1</td>\n",
       "      <td>0.0</td>\n",
       "      <td>0.0</td>\n",
       "      <td>0.0</td>\n",
       "      <td>0.0</td>\n",
       "      <td>...</td>\n",
       "      <td>0.0</td>\n",
       "      <td>0.0</td>\n",
       "      <td>0.0</td>\n",
       "      <td>0.0</td>\n",
       "      <td>0.0</td>\n",
       "      <td>0.0</td>\n",
       "      <td>0.0</td>\n",
       "      <td>0.0</td>\n",
       "      <td>0.0</td>\n",
       "      <td>1.0</td>\n",
       "    </tr>\n",
       "    <tr>\n",
       "      <th>2</th>\n",
       "      <td>32960645</td>\n",
       "      <td>11:53:53</td>\n",
       "      <td>62229</td>\n",
       "      <td>1</td>\n",
       "      <td>6.03</td>\n",
       "      <td>1</td>\n",
       "      <td>0.0</td>\n",
       "      <td>0.0</td>\n",
       "      <td>0.0</td>\n",
       "      <td>0.0</td>\n",
       "      <td>...</td>\n",
       "      <td>0.0</td>\n",
       "      <td>0.0</td>\n",
       "      <td>0.0</td>\n",
       "      <td>0.0</td>\n",
       "      <td>0.0</td>\n",
       "      <td>0.0</td>\n",
       "      <td>0.0</td>\n",
       "      <td>0.0</td>\n",
       "      <td>0.0</td>\n",
       "      <td>1.0</td>\n",
       "    </tr>\n",
       "    <tr>\n",
       "      <th>3</th>\n",
       "      <td>32089564</td>\n",
       "      <td>20:15:21</td>\n",
       "      <td>29446</td>\n",
       "      <td>6</td>\n",
       "      <td>6.37</td>\n",
       "      <td>1</td>\n",
       "      <td>0.0</td>\n",
       "      <td>0.0</td>\n",
       "      <td>0.0</td>\n",
       "      <td>0.0</td>\n",
       "      <td>...</td>\n",
       "      <td>0.0</td>\n",
       "      <td>0.0</td>\n",
       "      <td>0.0</td>\n",
       "      <td>0.0</td>\n",
       "      <td>0.0</td>\n",
       "      <td>0.0</td>\n",
       "      <td>0.0</td>\n",
       "      <td>0.0</td>\n",
       "      <td>0.0</td>\n",
       "      <td>1.0</td>\n",
       "    </tr>\n",
       "    <tr>\n",
       "      <th>4</th>\n",
       "      <td>32157739</td>\n",
       "      <td>21:32:16</td>\n",
       "      <td>13917</td>\n",
       "      <td>1</td>\n",
       "      <td>5.36</td>\n",
       "      <td>0</td>\n",
       "      <td>1.0</td>\n",
       "      <td>0.0</td>\n",
       "      <td>0.0</td>\n",
       "      <td>0.0</td>\n",
       "      <td>...</td>\n",
       "      <td>0.0</td>\n",
       "      <td>0.0</td>\n",
       "      <td>0.0</td>\n",
       "      <td>0.0</td>\n",
       "      <td>0.0</td>\n",
       "      <td>0.0</td>\n",
       "      <td>0.0</td>\n",
       "      <td>0.0</td>\n",
       "      <td>0.0</td>\n",
       "      <td>1.0</td>\n",
       "    </tr>\n",
       "  </tbody>\n",
       "</table>\n",
       "<p>5 rows × 32 columns</p>\n",
       "</div>"
      ],
      "text/plain": [
       "   order_id local_time  store_address  n_of_products  products_total  \\\n",
       "0  33446280   14:11:09          55379              2           11.88   \n",
       "1  33107339   11:47:41          23487              2            5.20   \n",
       "2  32960645   11:53:53          62229              1            6.03   \n",
       "3  32089564   20:15:21          29446              6            6.37   \n",
       "4  32157739   21:32:16          13917              1            5.36   \n",
       "\n",
       "   final_status    0    1    2    3  ...   16   17   18   19   20   21   22  \\\n",
       "0             1  1.0  0.0  0.0  0.0  ...  0.0  0.0  0.0  0.0  0.0  0.0  0.0   \n",
       "1             1  0.0  0.0  0.0  0.0  ...  0.0  0.0  0.0  0.0  0.0  0.0  0.0   \n",
       "2             1  0.0  0.0  0.0  0.0  ...  0.0  0.0  0.0  0.0  0.0  0.0  0.0   \n",
       "3             1  0.0  0.0  0.0  0.0  ...  0.0  0.0  0.0  0.0  0.0  0.0  0.0   \n",
       "4             0  1.0  0.0  0.0  0.0  ...  0.0  0.0  0.0  0.0  0.0  0.0  0.0   \n",
       "\n",
       "    23   24   25  \n",
       "0  0.0  0.0  1.0  \n",
       "1  0.0  0.0  1.0  \n",
       "2  0.0  0.0  1.0  \n",
       "3  0.0  0.0  1.0  \n",
       "4  0.0  0.0  1.0  \n",
       "\n",
       "[5 rows x 32 columns]"
      ]
     },
     "execution_count": 534,
     "metadata": {},
     "output_type": "execute_result"
    }
   ],
   "source": [
    "train_encoded.head()"
   ]
  },
  {
   "cell_type": "code",
   "execution_count": 535,
   "id": "2d5791ba",
   "metadata": {},
   "outputs": [],
   "source": [
    "train_encoded['store_address']= train_encoded['store_address'].astype(float)\n",
    "train_encoded['n_of_products']= train_encoded['n_of_products'].astype(float)"
   ]
  },
  {
   "cell_type": "code",
   "execution_count": 536,
   "id": "a94df4f3",
   "metadata": {
    "scrolled": true
   },
   "outputs": [],
   "source": [
    "train_encoded = train_encoded.drop([\"local_time\"],axis=1)\n",
    "train_encoded = train_encoded.drop([\"order_id\"],axis=1)"
   ]
  },
  {
   "cell_type": "code",
   "execution_count": 537,
   "id": "ab4b7640",
   "metadata": {},
   "outputs": [],
   "source": [
    "y = train_encoded[\"final_status\"]\n",
    "x = train_encoded.drop([\"final_status\"], axis=1)"
   ]
  },
  {
   "cell_type": "code",
   "execution_count": 538,
   "id": "4667decc",
   "metadata": {
    "scrolled": true
   },
   "outputs": [
    {
     "data": {
      "text/plain": [
       "<AxesSubplot:xlabel='final_status', ylabel='count'>"
      ]
     },
     "execution_count": 538,
     "metadata": {},
     "output_type": "execute_result"
    },
    {
     "data": {
      "image/png": "[encoded data removed]",
      "text/plain": [
       "<Figure size 432x288 with 1 Axes>"
      ]
     },
     "metadata": {
      "needs_background": "light"
     },
     "output_type": "display_data"
    }
   ],
   "source": [
    "sns.countplot(y)"
   ]
  },
  {
   "cell_type": "code",
   "execution_count": 539,
   "id": "532369ca",
   "metadata": {
    "scrolled": true
   },
   "outputs": [],
   "source": [
    "sm = SMOTE(random_state=42)\n",
    "x, y = sm.fit_resample(x, y)"
   ]
  },
  {
   "cell_type": "code",
   "execution_count": 540,
   "id": "e92e155b",
   "metadata": {
    "scrolled": true
   },
   "outputs": [
    {
     "data": {
      "text/plain": [
       "<AxesSubplot:xlabel='final_status', ylabel='count'>"
      ]
     },
     "execution_count": 540,
     "metadata": {},
     "output_type": "execute_result"
    },
    {
     "data": {
      "image/png": "[encoded data removed]",
      "text/plain": [
       "<Figure size 432x288 with 1 Axes>"
      ]
     },
     "metadata": {
      "needs_background": "light"
     },
     "output_type": "display_data"
    }
   ],
   "source": [
    "sns.countplot(y)"
   ]
  },
  {
   "cell_type": "code",
   "execution_count": 541,
   "id": "2262fa5e",
   "metadata": {},
   "outputs": [
    {
     "name": "stdout",
     "output_type": "stream",
     "text": [
      "Estimate: 1.000\n"
     ]
    }
   ],
   "source": [
    "counter = Counter(y)\n",
    "estimate = counter[0] / counter[1]\n",
    "print('Estimate: %.3f' % estimate)"
   ]
  },
  {
   "cell_type": "code",
   "execution_count": 542,
   "id": "fab6e37a",
   "metadata": {},
   "outputs": [],
   "source": [
    "total_positive_examples, total_negative_examples = y.value_counts()"
   ]
  },
  {
   "cell_type": "code",
   "execution_count": 543,
   "id": "77fec889",
   "metadata": {},
   "outputs": [
    {
     "data": {
      "text/plain": [
       "48498"
      ]
     },
     "execution_count": 543,
     "metadata": {},
     "output_type": "execute_result"
    }
   ],
   "source": [
    "total_positive_examples"
   ]
  },
  {
   "cell_type": "code",
   "execution_count": 544,
   "id": "f9fbdd55",
   "metadata": {},
   "outputs": [
    {
     "data": {
      "text/plain": [
       "48498"
      ]
     },
     "execution_count": 544,
     "metadata": {},
     "output_type": "execute_result"
    }
   ],
   "source": [
    "total_negative_examples"
   ]
  },
  {
   "cell_type": "code",
   "execution_count": 545,
   "id": "9d1bf343",
   "metadata": {},
   "outputs": [],
   "source": [
    "scale_pos_weight = total_negative_examples / total_positive_examples "
   ]
  },
  {
   "cell_type": "code",
   "execution_count": 546,
   "id": "e90c83c7",
   "metadata": {},
   "outputs": [
    {
     "data": {
      "text/plain": [
       "1.0"
      ]
     },
     "execution_count": 546,
     "metadata": {},
     "output_type": "execute_result"
    }
   ],
   "source": [
    "scale_pos_weight"
   ]
  },
  {
   "cell_type": "code",
   "execution_count": 547,
   "id": "ddf673e2",
   "metadata": {},
   "outputs": [],
   "source": [
    "x_train, x_val, y_train, y_val = train_test_split(x, y, test_size=0.2, random_state=42)"
   ]
  },
  {
   "cell_type": "code",
   "execution_count": 548,
   "id": "f372f05e",
   "metadata": {
    "scrolled": true
   },
   "outputs": [
    {
     "name": "stdout",
     "output_type": "stream",
     "text": [
      "<class 'pandas.core.frame.DataFrame'>\n",
      "RangeIndex: 54330 entries, 0 to 54329\n",
      "Data columns (total 30 columns):\n",
      " #   Column          Non-Null Count  Dtype  \n",
      "---  ------          --------------  -----  \n",
      " 0   store_address   54330 non-null  float64\n",
      " 1   n_of_products   54330 non-null  float64\n",
      " 2   products_total  54330 non-null  float64\n",
      " 3   final_status    54330 non-null  int32  \n",
      " 4   0               54330 non-null  float64\n",
      " 5   1               54330 non-null  float64\n",
      " 6   2               54330 non-null  float64\n",
      " 7   3               54330 non-null  float64\n",
      " 8   4               54330 non-null  float64\n",
      " 9   5               54330 non-null  float64\n",
      " 10  6               54330 non-null  float64\n",
      " 11  7               54330 non-null  float64\n",
      " 12  8               54330 non-null  float64\n",
      " 13  9               54330 non-null  float64\n",
      " 14  10              54330 non-null  float64\n",
      " 15  11              54330 non-null  float64\n",
      " 16  12              54330 non-null  float64\n",
      " 17  13              54330 non-null  float64\n",
      " 18  14              54330 non-null  float64\n",
      " 19  15              54330 non-null  float64\n",
      " 20  16              54330 non-null  float64\n",
      " 21  17              54330 non-null  float64\n",
      " 22  18              54330 non-null  float64\n",
      " 23  19              54330 non-null  float64\n",
      " 24  20              54330 non-null  float64\n",
      " 25  21              54330 non-null  float64\n",
      " 26  22              54330 non-null  float64\n",
      " 27  23              54330 non-null  float64\n",
      " 28  24              54330 non-null  float64\n",
      " 29  25              54330 non-null  float64\n",
      "dtypes: float64(29), int32(1)\n",
      "memory usage: 12.2 MB\n"
     ]
    }
   ],
   "source": [
    "train_encoded.info()"
   ]
  },
  {
   "cell_type": "markdown",
   "id": "81b3a958",
   "metadata": {},
   "source": [
    "##### The models"
   ]
  },
  {
   "cell_type": "code",
   "execution_count": 549,
   "id": "e60906ad",
   "metadata": {},
   "outputs": [
    {
     "data": {
      "text/html": [
       "<div>\n",
       "<style scoped>\n",
       "    .dataframe tbody tr th:only-of-type {\n",
       "        vertical-align: middle;\n",
       "    }\n",
       "\n",
       "    .dataframe tbody tr th {\n",
       "        vertical-align: top;\n",
       "    }\n",
       "\n",
       "    .dataframe thead th {\n",
       "        text-align: right;\n",
       "    }\n",
       "</style>\n",
       "<table border=\"1\" class=\"dataframe\">\n",
       "  <thead>\n",
       "    <tr style=\"text-align: right;\">\n",
       "      <th></th>\n",
       "      <th>Accuracy</th>\n",
       "      <th>Recall</th>\n",
       "      <th>Roc_Auc</th>\n",
       "      <th>Precision</th>\n",
       "    </tr>\n",
       "  </thead>\n",
       "  <tbody>\n",
       "    <tr>\n",
       "      <th>xgb</th>\n",
       "      <td>0.8537</td>\n",
       "      <td>0.959</td>\n",
       "      <td>0.8542</td>\n",
       "      <td>0.7913</td>\n",
       "    </tr>\n",
       "  </tbody>\n",
       "</table>\n",
       "</div>"
      ],
      "text/plain": [
       "     Accuracy  Recall  Roc_Auc  Precision\n",
       "xgb    0.8537   0.959   0.8542     0.7913"
      ]
     },
     "execution_count": 549,
     "metadata": {},
     "output_type": "execute_result"
    }
   ],
   "source": [
    "accuracy= []\n",
    "recall =[]\n",
    "roc_auc= []\n",
    "precision = []\n",
    "model_names =[]\n",
    "xgb = XGBClassifier(scale_pos_weight=scale_pos_weight)\n",
    "xgb.fit(x_train, y_train)\n",
    "y_pred = xgb.predict(x_val)\n",
    "\n",
    "accuracy.append(round(accuracy_score(y_val, y_pred),4))\n",
    "recall.append(round(recall_score(y_val, y_pred),4))\n",
    "roc_auc.append(round(roc_auc_score(y_val, y_pred),4))\n",
    "precision.append(round(precision_score(y_val, y_pred),4))\n",
    "\n",
    "model_names = ['xgb']\n",
    "result_df1 = pd.DataFrame({'Accuracy':accuracy,'Recall':recall, 'Roc_Auc':roc_auc, 'Precision':precision}, index=model_names)\n",
    "result_df1"
   ]
  },
  {
   "cell_type": "code",
   "execution_count": 550,
   "id": "35cc8989",
   "metadata": {},
   "outputs": [
    {
     "name": "stdout",
     "output_type": "stream",
     "text": [
      "[[7303 2442]\n",
      " [ 396 9259]]\n",
      "\n",
      "\n",
      "              precision    recall  f1-score   support\n",
      "\n",
      "           0       0.95      0.75      0.84      9745\n",
      "           1       0.79      0.96      0.87      9655\n",
      "\n",
      "    accuracy                           0.85     19400\n",
      "   macro avg       0.87      0.85      0.85     19400\n",
      "weighted avg       0.87      0.85      0.85     19400\n",
      "\n",
      "Training set score for xgboost: 0.865367\n",
      "Testing  set score for xgboost: 0.853711\n"
     ]
    }
   ],
   "source": [
    "print(confusion_matrix(y_val, y_pred))\n",
    "print(\"\\n\")\n",
    "print(classification_report(y_val, y_pred))\n",
    "\n",
    "print(\"Training set score for xgboost: %f\" % xgb.score(x_train, y_train))\n",
    "print(\"Testing  set score for xgboost: %f\" % xgb.score(x_val, y_val))"
   ]
  },
  {
   "cell_type": "code",
   "execution_count": 551,
   "id": "b0b0fc37",
   "metadata": {},
   "outputs": [
    {
     "data": {
      "text/html": [
       "<div>\n",
       "<style scoped>\n",
       "    .dataframe tbody tr th:only-of-type {\n",
       "        vertical-align: middle;\n",
       "    }\n",
       "\n",
       "    .dataframe tbody tr th {\n",
       "        vertical-align: top;\n",
       "    }\n",
       "\n",
       "    .dataframe thead th {\n",
       "        text-align: right;\n",
       "    }\n",
       "</style>\n",
       "<table border=\"1\" class=\"dataframe\">\n",
       "  <thead>\n",
       "    <tr style=\"text-align: right;\">\n",
       "      <th></th>\n",
       "      <th>Accuracy</th>\n",
       "      <th>Recall</th>\n",
       "      <th>Roc_Auc</th>\n",
       "      <th>Precision</th>\n",
       "    </tr>\n",
       "  </thead>\n",
       "  <tbody>\n",
       "    <tr>\n",
       "      <th>Catboost_default</th>\n",
       "      <td>0.8448</td>\n",
       "      <td>0.9409</td>\n",
       "      <td>0.8453</td>\n",
       "      <td>0.7883</td>\n",
       "    </tr>\n",
       "  </tbody>\n",
       "</table>\n",
       "</div>"
      ],
      "text/plain": [
       "                  Accuracy  Recall  Roc_Auc  Precision\n",
       "Catboost_default    0.8448  0.9409   0.8453     0.7883"
      ]
     },
     "execution_count": 551,
     "metadata": {},
     "output_type": "execute_result"
    }
   ],
   "source": [
    "accuracy= []\n",
    "recall =[]\n",
    "roc_auc= []\n",
    "precision = []\n",
    "model_names =[]\n",
    "catboost_base = CatBoostClassifier(verbose=False,random_state=0, scale_pos_weight=scale_pos_weight)\n",
    "catboost_base.fit(x_train, y_train, cat_features=categorical_features_indices, eval_set=(x_val, y_val))\n",
    "y_pred = catboost_base.predict(x_val)\n",
    "\n",
    "accuracy.append(round(accuracy_score(y_val, y_pred),4))\n",
    "recall.append(round(recall_score(y_val, y_pred),4))\n",
    "roc_auc.append(round(roc_auc_score(y_val, y_pred),4))\n",
    "precision.append(round(precision_score(y_val, y_pred),4))\n",
    "\n",
    "model_names = ['Catboost_default']\n",
    "result_df1 = pd.DataFrame({'Accuracy':accuracy,'Recall':recall, 'Roc_Auc':roc_auc, 'Precision':precision}, index=model_names)\n",
    "result_df1"
   ]
  },
  {
   "cell_type": "code",
   "execution_count": 552,
   "id": "ea65ceb5",
   "metadata": {},
   "outputs": [
    {
     "name": "stdout",
     "output_type": "stream",
     "text": [
      "[[7306 2439]\n",
      " [ 571 9084]]\n",
      "\n",
      "\n",
      "              precision    recall  f1-score   support\n",
      "\n",
      "           0       0.93      0.75      0.83      9745\n",
      "           1       0.79      0.94      0.86      9655\n",
      "\n",
      "    accuracy                           0.84     19400\n",
      "   macro avg       0.86      0.85      0.84     19400\n",
      "weighted avg       0.86      0.84      0.84     19400\n",
      "\n",
      "Training set score for xgboost: 0.865367\n",
      "Testing  set score for xgboost: 0.853711\n"
     ]
    }
   ],
   "source": [
    "print(confusion_matrix(y_val, y_pred))\n",
    "print(\"\\n\")\n",
    "print(classification_report(y_val, y_pred))\n",
    "\n",
    "print(\"Training set score for xgboost: %f\" % xgb.score(x_train, y_train))\n",
    "print(\"Testing  set score for xgboost: %f\" % xgb.score(x_val, y_val))"
   ]
  },
  {
   "cell_type": "code",
   "execution_count": 553,
   "id": "431a8cb3",
   "metadata": {},
   "outputs": [
    {
     "data": {
      "text/html": [
       "<div>\n",
       "<style scoped>\n",
       "    .dataframe tbody tr th:only-of-type {\n",
       "        vertical-align: middle;\n",
       "    }\n",
       "\n",
       "    .dataframe tbody tr th {\n",
       "        vertical-align: top;\n",
       "    }\n",
       "\n",
       "    .dataframe thead th {\n",
       "        text-align: right;\n",
       "    }\n",
       "</style>\n",
       "<table border=\"1\" class=\"dataframe\">\n",
       "  <thead>\n",
       "    <tr style=\"text-align: right;\">\n",
       "      <th></th>\n",
       "      <th>Accuracy</th>\n",
       "      <th>Recall</th>\n",
       "      <th>Roc_Auc</th>\n",
       "      <th>Precision</th>\n",
       "    </tr>\n",
       "  </thead>\n",
       "  <tbody>\n",
       "    <tr>\n",
       "      <th>LightGBM_default</th>\n",
       "      <td>0.8296</td>\n",
       "      <td>0.9695</td>\n",
       "      <td>0.8303</td>\n",
       "      <td>0.7566</td>\n",
       "    </tr>\n",
       "  </tbody>\n",
       "</table>\n",
       "</div>"
      ],
      "text/plain": [
       "                  Accuracy  Recall  Roc_Auc  Precision\n",
       "LightGBM_default    0.8296  0.9695   0.8303     0.7566"
      ]
     },
     "execution_count": 553,
     "metadata": {},
     "output_type": "execute_result"
    }
   ],
   "source": [
    "accuracy= []\n",
    "recall =[]\n",
    "roc_auc= []\n",
    "precision = []\n",
    "lgbmc_base=LGBMClassifier(random_state=0, scale_pos_weight=scale_pos_weight)\n",
    "lgbmc_base.fit(x_train, y_train, categorical_feature = 'auto', eval_set=(x_val, y_val),feature_name='auto', verbose=0)\n",
    "y_pred = lgbmc_base.predict(x_val)\n",
    "\n",
    "accuracy.append(round(accuracy_score(y_val, y_pred),4))\n",
    "recall.append(round(recall_score(y_val, y_pred),4))\n",
    "roc_auc.append(round(roc_auc_score(y_val, y_pred),4))\n",
    "precision.append(round(precision_score(y_val, y_pred),4))\n",
    "\n",
    "model_names = ['LightGBM_default']\n",
    "result_df7 = pd.DataFrame({'Accuracy':accuracy,'Recall':recall, 'Roc_Auc':roc_auc, 'Precision':precision}, index=model_names)\n",
    "result_df7"
   ]
  },
  {
   "cell_type": "code",
   "execution_count": 554,
   "id": "ff809092",
   "metadata": {},
   "outputs": [
    {
     "name": "stdout",
     "output_type": "stream",
     "text": [
      "[[6734 3011]\n",
      " [ 294 9361]]\n",
      "\n",
      "\n",
      "              precision    recall  f1-score   support\n",
      "\n",
      "           0       0.96      0.69      0.80      9745\n",
      "           1       0.76      0.97      0.85      9655\n",
      "\n",
      "    accuracy                           0.83     19400\n",
      "   macro avg       0.86      0.83      0.83     19400\n",
      "weighted avg       0.86      0.83      0.83     19400\n",
      "\n",
      "Training set score for xgboost: 0.865367\n",
      "Testing  set score for xgboost: 0.853711\n"
     ]
    }
   ],
   "source": [
    "print(confusion_matrix(y_val, y_pred))\n",
    "print(\"\\n\")\n",
    "print(classification_report(y_val, y_pred))\n",
    "\n",
    "print(\"Training set score for xgboost: %f\" % xgb.score(x_train, y_train))\n",
    "print(\"Testing  set score for xgboost: %f\" % xgb.score(x_val, y_val))"
   ]
  },
  {
   "cell_type": "markdown",
   "id": "122e1dfb",
   "metadata": {},
   "source": [
    "##### Engineering the test dataset"
   ]
  },
  {
   "cell_type": "code",
   "execution_count": 555,
   "id": "1ad4c8df",
   "metadata": {},
   "outputs": [
    {
     "data": {
      "text/html": [
       "<div>\n",
       "<style scoped>\n",
       "    .dataframe tbody tr th:only-of-type {\n",
       "        vertical-align: middle;\n",
       "    }\n",
       "\n",
       "    .dataframe tbody tr th {\n",
       "        vertical-align: top;\n",
       "    }\n",
       "\n",
       "    .dataframe thead th {\n",
       "        text-align: right;\n",
       "    }\n",
       "</style>\n",
       "<table border=\"1\" class=\"dataframe\">\n",
       "  <thead>\n",
       "    <tr style=\"text-align: right;\">\n",
       "      <th></th>\n",
       "      <th>order_id</th>\n",
       "      <th>local_time</th>\n",
       "      <th>country_code</th>\n",
       "      <th>store_address</th>\n",
       "      <th>payment_status</th>\n",
       "      <th>n_of_products</th>\n",
       "      <th>products_total</th>\n",
       "    </tr>\n",
       "  </thead>\n",
       "  <tbody>\n",
       "    <tr>\n",
       "      <th>0</th>\n",
       "      <td>32233784</td>\n",
       "      <td>17:50:09</td>\n",
       "      <td>MA</td>\n",
       "      <td>68169</td>\n",
       "      <td>PAID</td>\n",
       "      <td>1</td>\n",
       "      <td>61.63</td>\n",
       "    </tr>\n",
       "    <tr>\n",
       "      <th>1</th>\n",
       "      <td>32240990</td>\n",
       "      <td>18:38:08</td>\n",
       "      <td>ES</td>\n",
       "      <td>8220</td>\n",
       "      <td>PAID</td>\n",
       "      <td>11</td>\n",
       "      <td>15.99</td>\n",
       "    </tr>\n",
       "    <tr>\n",
       "      <th>2</th>\n",
       "      <td>33331821</td>\n",
       "      <td>22:11:59</td>\n",
       "      <td>IT</td>\n",
       "      <td>11169</td>\n",
       "      <td>PAID</td>\n",
       "      <td>4</td>\n",
       "      <td>5.89</td>\n",
       "    </tr>\n",
       "    <tr>\n",
       "      <th>3</th>\n",
       "      <td>33200505</td>\n",
       "      <td>22:13:55</td>\n",
       "      <td>AR</td>\n",
       "      <td>33371</td>\n",
       "      <td>PAID</td>\n",
       "      <td>3</td>\n",
       "      <td>7.85</td>\n",
       "    </tr>\n",
       "    <tr>\n",
       "      <th>4</th>\n",
       "      <td>32527480</td>\n",
       "      <td>12:01:04</td>\n",
       "      <td>TR</td>\n",
       "      <td>33958</td>\n",
       "      <td>PAID</td>\n",
       "      <td>2</td>\n",
       "      <td>4.75</td>\n",
       "    </tr>\n",
       "  </tbody>\n",
       "</table>\n",
       "</div>"
      ],
      "text/plain": [
       "   order_id local_time country_code  store_address payment_status  \\\n",
       "0  32233784   17:50:09           MA          68169           PAID   \n",
       "1  32240990   18:38:08           ES           8220           PAID   \n",
       "2  33331821   22:11:59           IT          11169           PAID   \n",
       "3  33200505   22:13:55           AR          33371           PAID   \n",
       "4  32527480   12:01:04           TR          33958           PAID   \n",
       "\n",
       "   n_of_products  products_total  \n",
       "0              1           61.63  \n",
       "1             11           15.99  \n",
       "2              4            5.89  \n",
       "3              3            7.85  \n",
       "4              2            4.75  "
      ]
     },
     "execution_count": 555,
     "metadata": {},
     "output_type": "execute_result"
    }
   ],
   "source": [
    "test.head()"
   ]
  },
  {
   "cell_type": "code",
   "execution_count": 556,
   "id": "e58df55e",
   "metadata": {},
   "outputs": [
    {
     "data": {
      "text/html": [
       "<div>\n",
       "<style scoped>\n",
       "    .dataframe tbody tr th:only-of-type {\n",
       "        vertical-align: middle;\n",
       "    }\n",
       "\n",
       "    .dataframe tbody tr th {\n",
       "        vertical-align: top;\n",
       "    }\n",
       "\n",
       "    .dataframe thead th {\n",
       "        text-align: right;\n",
       "    }\n",
       "</style>\n",
       "<table border=\"1\" class=\"dataframe\">\n",
       "  <thead>\n",
       "    <tr style=\"text-align: right;\">\n",
       "      <th></th>\n",
       "      <th>order_id</th>\n",
       "      <th>local_time</th>\n",
       "      <th>store_address</th>\n",
       "      <th>n_of_products</th>\n",
       "      <th>products_total</th>\n",
       "      <th>0</th>\n",
       "      <th>1</th>\n",
       "      <th>2</th>\n",
       "      <th>3</th>\n",
       "      <th>4</th>\n",
       "      <th>...</th>\n",
       "      <th>16</th>\n",
       "      <th>17</th>\n",
       "      <th>18</th>\n",
       "      <th>19</th>\n",
       "      <th>20</th>\n",
       "      <th>21</th>\n",
       "      <th>22</th>\n",
       "      <th>23</th>\n",
       "      <th>24</th>\n",
       "      <th>25</th>\n",
       "    </tr>\n",
       "  </thead>\n",
       "  <tbody>\n",
       "    <tr>\n",
       "      <th>0</th>\n",
       "      <td>32233784</td>\n",
       "      <td>17:50:09</td>\n",
       "      <td>68169</td>\n",
       "      <td>1</td>\n",
       "      <td>61.63</td>\n",
       "      <td>0.0</td>\n",
       "      <td>0.0</td>\n",
       "      <td>0.0</td>\n",
       "      <td>0.0</td>\n",
       "      <td>0.0</td>\n",
       "      <td>...</td>\n",
       "      <td>0.0</td>\n",
       "      <td>0.0</td>\n",
       "      <td>0.0</td>\n",
       "      <td>0.0</td>\n",
       "      <td>0.0</td>\n",
       "      <td>0.0</td>\n",
       "      <td>0.0</td>\n",
       "      <td>0.0</td>\n",
       "      <td>0.0</td>\n",
       "      <td>1.0</td>\n",
       "    </tr>\n",
       "    <tr>\n",
       "      <th>1</th>\n",
       "      <td>32240990</td>\n",
       "      <td>18:38:08</td>\n",
       "      <td>8220</td>\n",
       "      <td>11</td>\n",
       "      <td>15.99</td>\n",
       "      <td>0.0</td>\n",
       "      <td>0.0</td>\n",
       "      <td>0.0</td>\n",
       "      <td>0.0</td>\n",
       "      <td>0.0</td>\n",
       "      <td>...</td>\n",
       "      <td>0.0</td>\n",
       "      <td>0.0</td>\n",
       "      <td>0.0</td>\n",
       "      <td>0.0</td>\n",
       "      <td>0.0</td>\n",
       "      <td>0.0</td>\n",
       "      <td>0.0</td>\n",
       "      <td>0.0</td>\n",
       "      <td>0.0</td>\n",
       "      <td>1.0</td>\n",
       "    </tr>\n",
       "    <tr>\n",
       "      <th>2</th>\n",
       "      <td>33331821</td>\n",
       "      <td>22:11:59</td>\n",
       "      <td>11169</td>\n",
       "      <td>4</td>\n",
       "      <td>5.89</td>\n",
       "      <td>0.0</td>\n",
       "      <td>0.0</td>\n",
       "      <td>0.0</td>\n",
       "      <td>0.0</td>\n",
       "      <td>0.0</td>\n",
       "      <td>...</td>\n",
       "      <td>0.0</td>\n",
       "      <td>0.0</td>\n",
       "      <td>0.0</td>\n",
       "      <td>0.0</td>\n",
       "      <td>0.0</td>\n",
       "      <td>0.0</td>\n",
       "      <td>0.0</td>\n",
       "      <td>0.0</td>\n",
       "      <td>0.0</td>\n",
       "      <td>1.0</td>\n",
       "    </tr>\n",
       "    <tr>\n",
       "      <th>3</th>\n",
       "      <td>33200505</td>\n",
       "      <td>22:13:55</td>\n",
       "      <td>33371</td>\n",
       "      <td>3</td>\n",
       "      <td>7.85</td>\n",
       "      <td>1.0</td>\n",
       "      <td>0.0</td>\n",
       "      <td>0.0</td>\n",
       "      <td>0.0</td>\n",
       "      <td>0.0</td>\n",
       "      <td>...</td>\n",
       "      <td>0.0</td>\n",
       "      <td>0.0</td>\n",
       "      <td>0.0</td>\n",
       "      <td>0.0</td>\n",
       "      <td>0.0</td>\n",
       "      <td>0.0</td>\n",
       "      <td>0.0</td>\n",
       "      <td>0.0</td>\n",
       "      <td>0.0</td>\n",
       "      <td>1.0</td>\n",
       "    </tr>\n",
       "    <tr>\n",
       "      <th>4</th>\n",
       "      <td>32527480</td>\n",
       "      <td>12:01:04</td>\n",
       "      <td>33958</td>\n",
       "      <td>2</td>\n",
       "      <td>4.75</td>\n",
       "      <td>0.0</td>\n",
       "      <td>0.0</td>\n",
       "      <td>0.0</td>\n",
       "      <td>0.0</td>\n",
       "      <td>0.0</td>\n",
       "      <td>...</td>\n",
       "      <td>0.0</td>\n",
       "      <td>0.0</td>\n",
       "      <td>0.0</td>\n",
       "      <td>0.0</td>\n",
       "      <td>1.0</td>\n",
       "      <td>0.0</td>\n",
       "      <td>0.0</td>\n",
       "      <td>0.0</td>\n",
       "      <td>0.0</td>\n",
       "      <td>1.0</td>\n",
       "    </tr>\n",
       "  </tbody>\n",
       "</table>\n",
       "<p>5 rows × 31 columns</p>\n",
       "</div>"
      ],
      "text/plain": [
       "   order_id local_time  store_address  n_of_products  products_total    0  \\\n",
       "0  32233784   17:50:09          68169              1           61.63  0.0   \n",
       "1  32240990   18:38:08           8220             11           15.99  0.0   \n",
       "2  33331821   22:11:59          11169              4            5.89  0.0   \n",
       "3  33200505   22:13:55          33371              3            7.85  1.0   \n",
       "4  32527480   12:01:04          33958              2            4.75  0.0   \n",
       "\n",
       "     1    2    3    4  ...   16   17   18   19   20   21   22   23   24   25  \n",
       "0  0.0  0.0  0.0  0.0  ...  0.0  0.0  0.0  0.0  0.0  0.0  0.0  0.0  0.0  1.0  \n",
       "1  0.0  0.0  0.0  0.0  ...  0.0  0.0  0.0  0.0  0.0  0.0  0.0  0.0  0.0  1.0  \n",
       "2  0.0  0.0  0.0  0.0  ...  0.0  0.0  0.0  0.0  0.0  0.0  0.0  0.0  0.0  1.0  \n",
       "3  0.0  0.0  0.0  0.0  ...  0.0  0.0  0.0  0.0  0.0  0.0  0.0  0.0  0.0  1.0  \n",
       "4  0.0  0.0  0.0  0.0  ...  0.0  0.0  0.0  0.0  1.0  0.0  0.0  0.0  0.0  1.0  \n",
       "\n",
       "[5 rows x 31 columns]"
      ]
     },
     "execution_count": 556,
     "metadata": {},
     "output_type": "execute_result"
    }
   ],
   "source": [
    "test_enc = pd.DataFrame(ohe.transform(test[[\"country_code\", \"payment_status\"]]).toarray())\n",
    "test_encoded = test.join(test_enc)\n",
    "test_encoded.drop([\"country_code\", \"payment_status\"], axis=1, inplace=True)\n",
    "test_encoded.head()"
   ]
  },
  {
   "cell_type": "code",
   "execution_count": 557,
   "id": "71e71f4e",
   "metadata": {},
   "outputs": [],
   "source": [
    "test_encoded['store_address']= test_encoded['store_address'].astype(float)\n",
    "test_encoded['n_of_products']= test_encoded['n_of_products'].astype(float)"
   ]
  },
  {
   "cell_type": "code",
   "execution_count": 558,
   "id": "26bd0c7f",
   "metadata": {
    "scrolled": true
   },
   "outputs": [],
   "source": [
    "test_encoded = test_encoded.drop([\"local_time\"],axis=1)\n",
    "test_encoded = test_encoded.drop([\"order_id\"],axis=1)"
   ]
  },
  {
   "cell_type": "code",
   "execution_count": 559,
   "id": "6c025dfb",
   "metadata": {},
   "outputs": [
    {
     "data": {
      "text/html": [
       "<div>\n",
       "<style scoped>\n",
       "    .dataframe tbody tr th:only-of-type {\n",
       "        vertical-align: middle;\n",
       "    }\n",
       "\n",
       "    .dataframe tbody tr th {\n",
       "        vertical-align: top;\n",
       "    }\n",
       "\n",
       "    .dataframe thead th {\n",
       "        text-align: right;\n",
       "    }\n",
       "</style>\n",
       "<table border=\"1\" class=\"dataframe\">\n",
       "  <thead>\n",
       "    <tr style=\"text-align: right;\">\n",
       "      <th></th>\n",
       "      <th>store_address</th>\n",
       "      <th>n_of_products</th>\n",
       "      <th>products_total</th>\n",
       "      <th>0</th>\n",
       "      <th>1</th>\n",
       "      <th>2</th>\n",
       "      <th>3</th>\n",
       "      <th>4</th>\n",
       "      <th>5</th>\n",
       "      <th>6</th>\n",
       "      <th>...</th>\n",
       "      <th>16</th>\n",
       "      <th>17</th>\n",
       "      <th>18</th>\n",
       "      <th>19</th>\n",
       "      <th>20</th>\n",
       "      <th>21</th>\n",
       "      <th>22</th>\n",
       "      <th>23</th>\n",
       "      <th>24</th>\n",
       "      <th>25</th>\n",
       "    </tr>\n",
       "  </thead>\n",
       "  <tbody>\n",
       "    <tr>\n",
       "      <th>0</th>\n",
       "      <td>68169.0</td>\n",
       "      <td>1.0</td>\n",
       "      <td>61.63</td>\n",
       "      <td>0.0</td>\n",
       "      <td>0.0</td>\n",
       "      <td>0.0</td>\n",
       "      <td>0.0</td>\n",
       "      <td>0.0</td>\n",
       "      <td>0.0</td>\n",
       "      <td>0.0</td>\n",
       "      <td>...</td>\n",
       "      <td>0.0</td>\n",
       "      <td>0.0</td>\n",
       "      <td>0.0</td>\n",
       "      <td>0.0</td>\n",
       "      <td>0.0</td>\n",
       "      <td>0.0</td>\n",
       "      <td>0.0</td>\n",
       "      <td>0.0</td>\n",
       "      <td>0.0</td>\n",
       "      <td>1.0</td>\n",
       "    </tr>\n",
       "    <tr>\n",
       "      <th>1</th>\n",
       "      <td>8220.0</td>\n",
       "      <td>11.0</td>\n",
       "      <td>15.99</td>\n",
       "      <td>0.0</td>\n",
       "      <td>0.0</td>\n",
       "      <td>0.0</td>\n",
       "      <td>0.0</td>\n",
       "      <td>0.0</td>\n",
       "      <td>0.0</td>\n",
       "      <td>0.0</td>\n",
       "      <td>...</td>\n",
       "      <td>0.0</td>\n",
       "      <td>0.0</td>\n",
       "      <td>0.0</td>\n",
       "      <td>0.0</td>\n",
       "      <td>0.0</td>\n",
       "      <td>0.0</td>\n",
       "      <td>0.0</td>\n",
       "      <td>0.0</td>\n",
       "      <td>0.0</td>\n",
       "      <td>1.0</td>\n",
       "    </tr>\n",
       "    <tr>\n",
       "      <th>2</th>\n",
       "      <td>11169.0</td>\n",
       "      <td>4.0</td>\n",
       "      <td>5.89</td>\n",
       "      <td>0.0</td>\n",
       "      <td>0.0</td>\n",
       "      <td>0.0</td>\n",
       "      <td>0.0</td>\n",
       "      <td>0.0</td>\n",
       "      <td>0.0</td>\n",
       "      <td>0.0</td>\n",
       "      <td>...</td>\n",
       "      <td>0.0</td>\n",
       "      <td>0.0</td>\n",
       "      <td>0.0</td>\n",
       "      <td>0.0</td>\n",
       "      <td>0.0</td>\n",
       "      <td>0.0</td>\n",
       "      <td>0.0</td>\n",
       "      <td>0.0</td>\n",
       "      <td>0.0</td>\n",
       "      <td>1.0</td>\n",
       "    </tr>\n",
       "    <tr>\n",
       "      <th>3</th>\n",
       "      <td>33371.0</td>\n",
       "      <td>3.0</td>\n",
       "      <td>7.85</td>\n",
       "      <td>1.0</td>\n",
       "      <td>0.0</td>\n",
       "      <td>0.0</td>\n",
       "      <td>0.0</td>\n",
       "      <td>0.0</td>\n",
       "      <td>0.0</td>\n",
       "      <td>0.0</td>\n",
       "      <td>...</td>\n",
       "      <td>0.0</td>\n",
       "      <td>0.0</td>\n",
       "      <td>0.0</td>\n",
       "      <td>0.0</td>\n",
       "      <td>0.0</td>\n",
       "      <td>0.0</td>\n",
       "      <td>0.0</td>\n",
       "      <td>0.0</td>\n",
       "      <td>0.0</td>\n",
       "      <td>1.0</td>\n",
       "    </tr>\n",
       "    <tr>\n",
       "      <th>4</th>\n",
       "      <td>33958.0</td>\n",
       "      <td>2.0</td>\n",
       "      <td>4.75</td>\n",
       "      <td>0.0</td>\n",
       "      <td>0.0</td>\n",
       "      <td>0.0</td>\n",
       "      <td>0.0</td>\n",
       "      <td>0.0</td>\n",
       "      <td>0.0</td>\n",
       "      <td>0.0</td>\n",
       "      <td>...</td>\n",
       "      <td>0.0</td>\n",
       "      <td>0.0</td>\n",
       "      <td>0.0</td>\n",
       "      <td>0.0</td>\n",
       "      <td>1.0</td>\n",
       "      <td>0.0</td>\n",
       "      <td>0.0</td>\n",
       "      <td>0.0</td>\n",
       "      <td>0.0</td>\n",
       "      <td>1.0</td>\n",
       "    </tr>\n",
       "  </tbody>\n",
       "</table>\n",
       "<p>5 rows × 29 columns</p>\n",
       "</div>"
      ],
      "text/plain": [
       "   store_address  n_of_products  products_total    0    1    2    3    4    5  \\\n",
       "0        68169.0            1.0           61.63  0.0  0.0  0.0  0.0  0.0  0.0   \n",
       "1         8220.0           11.0           15.99  0.0  0.0  0.0  0.0  0.0  0.0   \n",
       "2        11169.0            4.0            5.89  0.0  0.0  0.0  0.0  0.0  0.0   \n",
       "3        33371.0            3.0            7.85  1.0  0.0  0.0  0.0  0.0  0.0   \n",
       "4        33958.0            2.0            4.75  0.0  0.0  0.0  0.0  0.0  0.0   \n",
       "\n",
       "     6  ...   16   17   18   19   20   21   22   23   24   25  \n",
       "0  0.0  ...  0.0  0.0  0.0  0.0  0.0  0.0  0.0  0.0  0.0  1.0  \n",
       "1  0.0  ...  0.0  0.0  0.0  0.0  0.0  0.0  0.0  0.0  0.0  1.0  \n",
       "2  0.0  ...  0.0  0.0  0.0  0.0  0.0  0.0  0.0  0.0  0.0  1.0  \n",
       "3  0.0  ...  0.0  0.0  0.0  0.0  0.0  0.0  0.0  0.0  0.0  1.0  \n",
       "4  0.0  ...  0.0  0.0  0.0  0.0  1.0  0.0  0.0  0.0  0.0  1.0  \n",
       "\n",
       "[5 rows x 29 columns]"
      ]
     },
     "execution_count": 559,
     "metadata": {},
     "output_type": "execute_result"
    }
   ],
   "source": [
    "test_encoded.head()"
   ]
  },
  {
   "cell_type": "code",
   "execution_count": 560,
   "id": "777666da",
   "metadata": {},
   "outputs": [],
   "source": [
    "test_encoded = test_encoded.values"
   ]
  },
  {
   "cell_type": "code",
   "execution_count": 561,
   "id": "27d3b079",
   "metadata": {},
   "outputs": [],
   "source": [
    "final_pred = xgb.predict(test_encoded)"
   ]
  },
  {
   "cell_type": "code",
   "execution_count": 562,
   "id": "4f1a3130",
   "metadata": {
    "scrolled": true
   },
   "outputs": [
    {
     "data": {
      "text/plain": [
       "array([0, 1, 1, 1, 1, 1, 1, 1, 0, 1, 1, 1, 1, 1, 1, 1, 1, 1, 1, 1, 1, 1,\n",
       "       1, 1, 1, 1, 1, 1, 1, 1])"
      ]
     },
     "execution_count": 562,
     "metadata": {},
     "output_type": "execute_result"
    }
   ],
   "source": [
    "final_pred"
   ]
  },
  {
   "cell_type": "code",
   "execution_count": 563,
   "id": "26601ec3",
   "metadata": {},
   "outputs": [],
   "source": [
    "final_results = pd.DataFrame(final_pred)\n",
    "final_results = final_results.set_axis([\"final_status\"], axis=1)\n",
    "final_results.to_csv(\"results.csv\", index = False)"
   ]
  }
 ],
 "metadata": {
  "kernelspec": {
   "display_name": "Python 3 (ipykernel)",
   "language": "python",
   "name": "python3"
  },
  "language_info": {
   "codemirror_mode": {
    "name": "ipython",
    "version": 3
   },
   "file_extension": ".py",
   "mimetype": "text/x-python",
   "name": "python",
   "nbconvert_exporter": "python",
   "pygments_lexer": "ipython3",
   "version": "3.9.7"
  }
 },
 "nbformat": 4,
 "nbformat_minor": 5
}
